{
 "cells": [
  {
   "cell_type": "markdown",
   "metadata": {},
   "source": [
    "## To do:\n",
    "\n",
    "Convert release dates to months\n",
    "Remove overly-correlated variables like opening weekend rev. See if opening weekend theaters is too highly correlated.\n",
    "Hunt down the na values.\n",
    "Maybe add difference between worldwide and domestic release dates?\n"
   ]
  },
  {
   "cell_type": "code",
   "execution_count": 153,
   "metadata": {
    "collapsed": true
   },
   "outputs": [],
   "source": [
    "import numpy as np\n",
    "import pandas as pd\n",
    "import pdb\n",
    "import matplotlib.pyplot as plt\n",
    "from sklearn.linear_model import Lasso\n",
    "from sklearn.linear_model import LassoLars\n",
    "from sklearn.linear_model import Ridge"
   ]
  },
  {
   "cell_type": "code",
   "execution_count": 154,
   "metadata": {
    "collapsed": false
   },
   "outputs": [
    {
     "name": "stdout",
     "output_type": "stream",
     "text": [
      "0        9.245475\n",
      "1        2.993750\n",
      "2       44.417332\n",
      "3        9.092430\n",
      "4        3.749322\n",
      "5        0.000000\n",
      "6       15.818507\n",
      "7       29.773767\n",
      "8       11.855712\n",
      "9        0.327104\n",
      "10       7.781750\n",
      "11       2.724573\n",
      "12       0.761501\n",
      "13      11.558434\n",
      "14       6.822095\n",
      "15       0.000000\n",
      "16       0.000000\n",
      "17       0.000000\n",
      "18       0.000000\n",
      "19       0.000000\n",
      "20       0.000000\n",
      "21       0.000000\n",
      "22       7.809655\n",
      "23       1.372120\n",
      "24       2.726945\n",
      "25       0.000000\n",
      "26       0.000000\n",
      "27      12.931569\n",
      "28      17.156920\n",
      "29       0.000000\n",
      "          ...    \n",
      "359     78.400000\n",
      "360      0.356257\n",
      "361      0.171867\n",
      "362      0.362796\n",
      "363      1.232480\n",
      "364      0.088676\n",
      "365      0.212500\n",
      "366      0.080874\n",
      "367      0.315968\n",
      "368      0.010500\n",
      "369      0.003839\n",
      "370      0.000192\n",
      "371     10.213527\n",
      "372     17.378221\n",
      "373     17.985000\n",
      "374      2.336377\n",
      "375    108.644729\n",
      "376     21.378361\n",
      "377     22.625626\n",
      "378     36.666667\n",
      "379    215.384615\n",
      "380     10.445019\n",
      "381      1.786500\n",
      "382     70.000000\n",
      "383     14.376752\n",
      "384     17.346745\n",
      "385     39.225000\n",
      "386    189.803136\n",
      "387     33.351207\n",
      "388    263.157895\n",
      "Name: ROI, dtype: float64\n",
      "0      2.098826\n",
      "1      1.441247\n",
      "2      3.541475\n",
      "3      2.087180\n",
      "4      1.553523\n",
      "5      0.000000\n",
      "6      2.510278\n",
      "7      3.099402\n",
      "8      2.280215\n",
      "9      0.689015\n",
      "10     1.981645\n",
      "11     1.396688\n",
      "12     0.913181\n",
      "13     2.260995\n",
      "14     1.896586\n",
      "15     0.000000\n",
      "16     0.000000\n",
      "17     0.000000\n",
      "18     0.000000\n",
      "19     0.000000\n",
      "20     0.000000\n",
      "21     0.000000\n",
      "22     1.984010\n",
      "23     1.111213\n",
      "24     1.397093\n",
      "25     0.000000\n",
      "26     0.000000\n",
      "27     2.347202\n",
      "28     2.579169\n",
      "29     0.000000\n",
      "         ...   \n",
      "359    4.279950\n",
      "360    0.708904\n",
      "361    0.555987\n",
      "362    0.713215\n",
      "363    1.072161\n",
      "364    0.445932\n",
      "365    0.596742\n",
      "366    0.432451\n",
      "367    0.681105\n",
      "368    0.218976\n",
      "369    0.156584\n",
      "370    0.057721\n",
      "371    2.169661\n",
      "372    2.590211\n",
      "373    2.620013\n",
      "374    1.326929\n",
      "375    4.771661\n",
      "376    2.775395\n",
      "377    2.828352\n",
      "378    3.322185\n",
      "379    5.994297\n",
      "380    2.185931\n",
      "381    1.213392\n",
      "382    4.121285\n",
      "383    2.431571\n",
      "384    2.588646\n",
      "385    3.397721\n",
      "386    5.746911\n",
      "387    3.218873\n",
      "388    6.408240\n",
      "Name: cube root ROI, dtype: float64\n"
     ]
    }
   ],
   "source": [
    "\n",
    "df = pd.read_table(\"horror.txt\", delimiter = '\\t',parse_dates=True,infer_datetime_format=True,date_parser=pd.to_datetime)\n",
    "df['ROI'] = df['Worldwide Box Office']/df['Production Budget']#\n",
    "print df['ROI']\n",
    "df['log ROI'] = df['ROI'].apply(lambda x: np.log(x) if x>0 else None)\n",
    "df['adj log ROI']= df['ROI'].apply(lambda x: np.log(x+0.000192307692308/2)) #if x>0 else -100)\n",
    "df['cube root ROI'] = df['ROI'].apply(lambda x : x**(1.0/3))\n",
    "print df['cube root ROI']\n",
    "#print df['ROI']\n",
    "#print df.iloc[0:15]\n",
    "#print df.columns\n"
   ]
  },
  {
   "cell_type": "code",
   "execution_count": 155,
   "metadata": {
    "collapsed": false
   },
   "outputs": [],
   "source": [
    "# df = df[df['ROI']>0.0001]\n",
    "# print np.min(dfpos['ROI'])\n",
    "# #print len(df)"
   ]
  },
  {
   "cell_type": "code",
   "execution_count": 156,
   "metadata": {
    "collapsed": false
   },
   "outputs": [],
   "source": [
    "ptest = df[['Title', 'Released','Released Worldwide', 'Year', 'Theatrical Distributor','Source','Creative Type', \\\n",
    "            'Production Budget', 'Opening Weekend Theaters', 'Opening Weekend Revenue', 'Worldwide Box Office',\\\n",
    "            'Jumps', 'Rating', 'Runtime', 'IMDb Score']]\n",
    "#print(df[['Title', 'Jumps']])\n",
    "# for i in df:\n",
    "#     if i=='0*':\n",
    "#         i=-1\n",
    "# maxjump = df['Jumps'].idxmax(skipna=True)\n",
    "# print df[0:1]"
   ]
  },
  {
   "cell_type": "code",
   "execution_count": 157,
   "metadata": {
    "collapsed": false
   },
   "outputs": [
    {
     "name": "stderr",
     "output_type": "stream",
     "text": [
      "C:\\Users\\Jason\\Anaconda2\\lib\\site-packages\\ipykernel\\__main__.py:4: SettingWithCopyWarning: \n",
      "A value is trying to be set on a copy of a slice from a DataFrame.\n",
      "Try using .loc[row_indexer,col_indexer] = value instead\n",
      "\n",
      "See the caveats in the documentation: http://pandas.pydata.org/pandas-docs/stable/indexing.html#indexing-view-versus-copy\n",
      "C:\\Users\\Jason\\Anaconda2\\lib\\site-packages\\ipykernel\\__main__.py:5: SettingWithCopyWarning: \n",
      "A value is trying to be set on a copy of a slice from a DataFrame.\n",
      "Try using .loc[row_indexer,col_indexer] = value instead\n",
      "\n",
      "See the caveats in the documentation: http://pandas.pydata.org/pandas-docs/stable/indexing.html#indexing-view-versus-copy\n"
     ]
    },
    {
     "data": {
      "image/png": "[encoded data removed]",
      "text/plain": [
       "<matplotlib.figure.Figure at 0xe8f27f0>"
      ]
     },
     "metadata": {},
     "output_type": "display_data"
    }
   ],
   "source": [
    "#print ptest.columns\n",
    "#print ptest['Worldwide Box Office'][:5]\n",
    "#print ptest['Released'][:5]\n",
    "ptest['Released'] = pd.to_datetime(ptest['Released'], infer_datetime_format=True)\n",
    "ptest['Released Worldwide'] = pd.to_datetime(ptest['Released Worldwide'], infer_datetime_format=True)\n",
    "#print ptest['Released']\n",
    "plt.plot(ptest['Worldwide Box Office'])\n",
    "plt.show()"
   ]
  },
  {
   "cell_type": "code",
   "execution_count": 158,
   "metadata": {
    "collapsed": false
   },
   "outputs": [
    {
     "data": {
      "image/png": "[encoded data removed]",
      "text/plain": [
       "<matplotlib.figure.Figure at 0x1287d940>"
      ]
     },
     "metadata": {},
     "output_type": "display_data"
    },
    {
     "data": {
      "image/png": "[encoded data removed]",
      "text/plain": [
       "<matplotlib.figure.Figure at 0xdb1c0f0>"
      ]
     },
     "metadata": {},
     "output_type": "display_data"
    }
   ],
   "source": [
    "# print df['Theatrical Distributor'].value_counts()\n",
    "# print df['Theatrical Distributor'].unique().shape\n",
    "# print df['Theatrical Distributor'].unique()\n",
    "# loctest = ptest.copy()\n",
    "# loctest.loc(['Release'])=3\n",
    "#ptest.loc(['Theatrical Distributor'])=3\n",
    "#ptest.loc(['Sony Pictures', 'Theatrical Distributor'])\n",
    "y = df['ROI'].copy()\n",
    "#y = y.sort_values(inplace=True())\n",
    "y = np.array(y)\n",
    "idx = np.argsort(y)\n",
    "enum = np.arange(y.shape[0])\n",
    "plt.scatter(enum, y[idx])\n",
    "plt.show()\n",
    "y = df['log ROI'].copy()\n",
    "#y = y.sort_values(inplace=True())\n",
    "y = np.array(y)\n",
    "idx = np.argsort(y)\n",
    "\n",
    "plt.scatter(enum, y[idx])\n",
    "plt.show()"
   ]
  },
  {
   "cell_type": "code",
   "execution_count": 159,
   "metadata": {
    "collapsed": false
   },
   "outputs": [
    {
     "name": "stdout",
     "output_type": "stream",
     "text": [
      "0                           Universal\n",
      "1                  Paramount Pictures\n",
      "2                           Universal\n",
      "3                           Universal\n",
      "4                           Lionsgate\n",
      "5                        IFC Midnight\n",
      "6                       Sony Pictures\n",
      "7                        Warner Bros.\n",
      "8                           Universal\n",
      "9                Broad Green Pictures\n",
      "10                       Warner Bros.\n",
      "11                 High Top Releasing\n",
      "12                                A24\n",
      "13                                A24\n",
      "14                  STX Entertainment\n",
      "15                                NaN\n",
      "16                                NaN\n",
      "17                                NaN\n",
      "18                                NaN\n",
      "19                       IFC Midnight\n",
      "20                                NaN\n",
      "21                                NaN\n",
      "22                 Paramount Pictures\n",
      "23                          Universal\n",
      "24                      Sony Pictures\n",
      "25                                NaN\n",
      "26                                NaN\n",
      "27                 High Top Releasing\n",
      "28                                NaN\n",
      "29                                NaN\n",
      "                    ...              \n",
      "359                          New Line\n",
      "360                         Universal\n",
      "361                  20th Century Fox\n",
      "362    New Century Vista Film Company\n",
      "363          Moviestore Entertainment\n",
      "364                   Empire Pictures\n",
      "365      United Film Distribution Co.\n",
      "366                           Trimark\n",
      "367                               NaN\n",
      "368                               NaN\n",
      "369                     Sony Pictures\n",
      "370                          Gramercy\n",
      "371                         Universal\n",
      "372                Paramount Pictures\n",
      "373                      Avco Embassy\n",
      "374                      Warner Bros.\n",
      "375                Paramount Pictures\n",
      "376                      Avco Embassy\n",
      "377                  20th Century Fox\n",
      "378      United Film Distribution Co.\n",
      "379             Compass International\n",
      "380                         Universal\n",
      "381                      Warner Bros.\n",
      "382                       Libra Films\n",
      "383                    United Artists\n",
      "384                  20th Century Fox\n",
      "385                         Universal\n",
      "386                          New Line\n",
      "387                      Warner Bros.\n",
      "388         Walter Reade Organization\n",
      "Name: Theatrical Distributor, dtype: object\n",
      "None\n",
      "['Universal' 'Paramount Pictures' 'Lionsgate' 'Other' 'Sony Pictures'\n",
      " 'Warner Bros.' nan '20th Century Fox' 'Magnolia Pictures'\n",
      " 'Weinstein/Dimension' 'MGM' 'New Line' 'Miramax/Dimension' 'Miramax']\n"
     ]
    }
   ],
   "source": [
    "# ptest = df[['Released','Released Worldwide', 'Year', 'Theatrical Distributor','Source','Creative Type', \\\n",
    "#             'Production Budget', 'Opening Weekend Theaters', 'Opening Weekend Revenue', 'Worldwide Box Office',\\\n",
    "#             'Jumps', 'Rating', 'Runtime', 'IMDb Score']]\n",
    "# counts = ptest['Theatrical Distributor'].value_counts()\n",
    "# print counts.loc(['Theatrical Distributor', 'Sony Pictures'])\n",
    "# print counts.unique()\n",
    "# for i in ptest['Theatrical Distributor']:\n",
    "#     ptest.loc(['Theatrical Distributor', i]) = counts[i]\n",
    "\n",
    "# print ptest['Theatrical Distributor']\n",
    "#print(df[['Title', 'Jumps']])\n",
    "#print ptest.groupby('Theatrical Distributor')\n",
    "#counts = ptest.apply(lambda x: x.map(x.value_counts()))\n",
    "\n",
    "\n",
    "#ptest.loc()\n",
    "#counts\n",
    "#print df[15:16]\n",
    "#print df['Theatrical Distributor']\n",
    "counts = df['Theatrical Distributor'].value_counts()\n",
    "others = counts[counts<=5].index\n",
    "# test = df.copy()\n",
    "# test['Theatrical Distributor'].fillna(\"No distributor\")\n",
    "# print test['Theatrical Distributor']\n",
    "#test.replace(test[test['Theatrical Distributor']==np.nan], 'No distributor', inplace=True)\n",
    "#whatareyou = test.iloc[15]['Theatrical Distributor']#[15:16].value\n",
    "#print whatareyou\n",
    "#print test[test['Theatrical Distributor']==whatareyou]\n",
    "#print test[15:20]\n",
    "#print test[test['Theatrical Distributor']==np.nan]\n",
    "\n",
    "#print test['Theatrical Distributor']\n",
    "print ptest['Theatrical Distributor']\n",
    "print ptest['Theatrical Distributor'].replace(others, 'Other', inplace=True)\n",
    "print ptest['Theatrical Distributor'].unique()\n",
    "#ptest.loc([:,'Theatrical Distributor']) = 3#counts.loc(['Theatrical Distributor'])\n",
    "#WE SHOULDNT ACTUALLY DO THIS\n",
    "#INSTEAD REPLACE ALL COUNTS WITH OTHER\n",
    "# ptest['Theatrical Distributor']=counts['Theatrical Distributor']\n",
    "\n",
    "#counts = ptest.apply(lambda x: x.value_counts())\n",
    "#print ptest['Theatrical Distributor']#['Theatrical Distributor']\n",
    "#print counts"
   ]
  },
  {
   "cell_type": "code",
   "execution_count": 160,
   "metadata": {
    "collapsed": false
   },
   "outputs": [
    {
     "name": "stdout",
     "output_type": "stream",
     "text": [
      "Index([u'Title', u'Released', u'Released Worldwide', u'Year',\n",
      "       u'Theatrical Distributor', u'Source', u'Creative Type',\n",
      "       u'Production Budget', u'Opening Weekend Theaters',\n",
      "       u'Opening Weekend Revenue', u'Worldwide Box Office', u'Jumps',\n",
      "       u'Rating', u'Runtime', u'IMDb Score'],\n",
      "      dtype='object')\n"
     ]
    },
    {
     "data": {
      "text/plain": [
       "Title                                      Split\n",
       "Released                     2017-01-20 00:00:00\n",
       "Released Worldwide           2017-01-18 00:00:00\n",
       "Year                                        2017\n",
       "Theatrical Distributor                 Universal\n",
       "Source                       Original Screenplay\n",
       "Creative Type               Contemporary Fiction\n",
       "Production Budget                        5000000\n",
       "Opening Weekend Theaters                    3038\n",
       "Opening Weekend Revenue                 40010975\n",
       "Worldwide Box Office                   222086658\n",
       "Jumps                                          0\n",
       "Rating                                      pg13\n",
       "Runtime                                      117\n",
       "IMDb Score                                   7.5\n",
       "Name: 2, dtype: object"
      ]
     },
     "execution_count": 160,
     "metadata": {},
     "output_type": "execute_result"
    }
   ],
   "source": [
    "print ptest.columns\n",
    "ptest.iloc[2]"
   ]
  },
  {
   "cell_type": "code",
   "execution_count": 161,
   "metadata": {
    "collapsed": false
   },
   "outputs": [
    {
     "name": "stdout",
     "output_type": "stream",
     "text": [
      "(48L,)\n"
     ]
    }
   ],
   "source": [
    "#print ptest['Production Budget'][:5]\n",
    "#print titles[:5]\n",
    "#print ptest[ptest['Worldwide Box Office']<=1]['Worldwide Box Office'].value_counts()\n",
    "dummies = pd.get_dummies(ptest.iloc[:, 1:])\n",
    "print dummies.columns.shape\n",
    "#print dummies.iloc[15]\n",
    "#dummies[dummies['Runtime']<=60]\n",
    "#dummies = dummies['Runtime'].fillna(90)"
   ]
  },
  {
   "cell_type": "code",
   "execution_count": 162,
   "metadata": {
    "collapsed": false
   },
   "outputs": [],
   "source": [
    "blanks = dummies.copy()\n",
    "blanks = blanks.fillna(-20)\n",
    "\n",
    "for col in blanks.iloc[:, 3:]:\n",
    "    temp= ptest[blanks[col]==-20]['Title']\n",
    "    if len(temp)>0:\n",
    "        print temp"
   ]
  },
  {
   "cell_type": "code",
   "execution_count": 163,
   "metadata": {
    "collapsed": false
   },
   "outputs": [],
   "source": [
    "\n",
    "#ptest.iloc[276]"
   ]
  },
  {
   "cell_type": "code",
   "execution_count": 173,
   "metadata": {
    "collapsed": false
   },
   "outputs": [
    {
     "name": "stdout",
     "output_type": "stream",
     "text": [
      "Int64Index([  0,   1,   2,   3,   4,   6,   7,   8,  10,  11,\n",
      "            ...\n",
      "            379, 380, 381, 382, 383, 384, 385, 386, 387, 388],\n",
      "           dtype='int64', length=261)\n",
      "0.522929960659\n",
      "Lasso results:\n"
     ]
    },
    {
     "data": {
      "image/png": "[encoded data removed]",
      "text/plain": [
       "<matplotlib.figure.Figure at 0xcd17630>"
      ]
     },
     "metadata": {},
     "output_type": "display_data"
    }
   ],
   "source": [
    "from sklearn.linear_model import LinearRegression\n",
    "\n",
    "dummies3 = dummies.iloc[:, 3:].apply(lambda x: x**3)\n",
    "#print dummies.iloc[0:3,3:]\n",
    "X = dummies.iloc[:,3:] #dummies3#.iloc[:, 3:]\n",
    "#y = df['log ROI']\n",
    "posidx = df[df['log ROI']>0].index\n",
    "print posidx\n",
    "y = df['cube root ROI']\n",
    "#print X\n",
    "\n",
    "lassoreg = LassoLars(alpha=0.001,normalize=True, max_iter=10000)\n",
    "lassoreg.fit(X,y)\n",
    "\n",
    "print lassoreg.score(X,y)\n",
    "print(\"Lasso results:\")\n",
    "zip(dummies.columns[3:],lassoreg.coef_)\n",
    "\n",
    "lassohat = lassoreg.predict(X)\n",
    "resid = lassohat-y\n",
    "npy = np.array(y)\n",
    "nphat = np.array(lassohat)\n",
    "idx = np.argsort(y)\n",
    "plt.scatter(np.arange(len(y)), lassohat[idx])\n",
    "plt.scatter(np.arange(len(y)), y[idx])\n",
    "plt.show()"
   ]
  },
  {
   "cell_type": "code",
   "execution_count": 172,
   "metadata": {
    "collapsed": false
   },
   "outputs": [
    {
     "name": "stdout",
     "output_type": "stream",
     "text": [
      "Int64Index([  0,   1,   2,   3,   4,   6,   7,   8,  10,  11,\n",
      "            ...\n",
      "            379, 380, 381, 382, 383, 384, 385, 386, 387, 388],\n",
      "           dtype='int64', length=261)\n",
      "389\n"
     ]
    },
    {
     "ename": "IndexError",
     "evalue": "indices are out-of-bounds",
     "output_type": "error",
     "traceback": [
      "\u001b[0;31m\u001b[0m",
      "\u001b[0;31mIndexError\u001b[0mTraceback (most recent call last)",
      "\u001b[0;32m<ipython-input-172-40efe9fb7ce0>\u001b[0m in \u001b[0;36m<module>\u001b[0;34m()\u001b[0m\n\u001b[1;32m      3\u001b[0m \u001b[1;32mprint\u001b[0m \u001b[0mlen\u001b[0m\u001b[1;33m(\u001b[0m\u001b[0mdummies\u001b[0m\u001b[1;33m)\u001b[0m\u001b[1;33m\u001b[0m\u001b[0m\n\u001b[1;32m      4\u001b[0m \u001b[0my2\u001b[0m \u001b[1;33m=\u001b[0m \u001b[0my\u001b[0m\u001b[1;33m[\u001b[0m\u001b[0mposidx\u001b[0m\u001b[1;33m]\u001b[0m\u001b[1;33m\u001b[0m\u001b[0m\n\u001b[0;32m----> 5\u001b[0;31m \u001b[0mdummies2\u001b[0m \u001b[1;33m=\u001b[0m \u001b[0mdummies\u001b[0m\u001b[1;33m[\u001b[0m\u001b[0mposidx\u001b[0m\u001b[1;33m]\u001b[0m\u001b[1;33m\u001b[0m\u001b[0m\n\u001b[0m\u001b[1;32m      6\u001b[0m \u001b[1;31m#print dummies.iloc[0:3,3:]\u001b[0m\u001b[1;33m\u001b[0m\u001b[1;33m\u001b[0m\u001b[0m\n\u001b[1;32m      7\u001b[0m \u001b[0mX\u001b[0m \u001b[1;33m=\u001b[0m \u001b[0mdummies2\u001b[0m\u001b[1;33m.\u001b[0m\u001b[0miloc\u001b[0m\u001b[1;33m[\u001b[0m\u001b[1;33m:\u001b[0m\u001b[1;33m,\u001b[0m\u001b[1;36m3\u001b[0m\u001b[1;33m:\u001b[0m\u001b[1;33m]\u001b[0m \u001b[1;31m#dummies3#.iloc[:, 3:]\u001b[0m\u001b[1;33m\u001b[0m\u001b[0m\n",
      "\u001b[0;32mC:\\Users\\Jason\\Anaconda2\\lib\\site-packages\\pandas\\core\\frame.pyc\u001b[0m in \u001b[0;36m__getitem__\u001b[0;34m(self, key)\u001b[0m\n\u001b[1;32m   2051\u001b[0m         \u001b[1;32mif\u001b[0m \u001b[0misinstance\u001b[0m\u001b[1;33m(\u001b[0m\u001b[0mkey\u001b[0m\u001b[1;33m,\u001b[0m \u001b[1;33m(\u001b[0m\u001b[0mSeries\u001b[0m\u001b[1;33m,\u001b[0m \u001b[0mnp\u001b[0m\u001b[1;33m.\u001b[0m\u001b[0mndarray\u001b[0m\u001b[1;33m,\u001b[0m \u001b[0mIndex\u001b[0m\u001b[1;33m,\u001b[0m \u001b[0mlist\u001b[0m\u001b[1;33m)\u001b[0m\u001b[1;33m)\u001b[0m\u001b[1;33m:\u001b[0m\u001b[1;33m\u001b[0m\u001b[0m\n\u001b[1;32m   2052\u001b[0m             \u001b[1;31m# either boolean or fancy integer index\u001b[0m\u001b[1;33m\u001b[0m\u001b[1;33m\u001b[0m\u001b[0m\n\u001b[0;32m-> 2053\u001b[0;31m             \u001b[1;32mreturn\u001b[0m \u001b[0mself\u001b[0m\u001b[1;33m.\u001b[0m\u001b[0m_getitem_array\u001b[0m\u001b[1;33m(\u001b[0m\u001b[0mkey\u001b[0m\u001b[1;33m)\u001b[0m\u001b[1;33m\u001b[0m\u001b[0m\n\u001b[0m\u001b[1;32m   2054\u001b[0m         \u001b[1;32melif\u001b[0m \u001b[0misinstance\u001b[0m\u001b[1;33m(\u001b[0m\u001b[0mkey\u001b[0m\u001b[1;33m,\u001b[0m \u001b[0mDataFrame\u001b[0m\u001b[1;33m)\u001b[0m\u001b[1;33m:\u001b[0m\u001b[1;33m\u001b[0m\u001b[0m\n\u001b[1;32m   2055\u001b[0m             \u001b[1;32mreturn\u001b[0m \u001b[0mself\u001b[0m\u001b[1;33m.\u001b[0m\u001b[0m_getitem_frame\u001b[0m\u001b[1;33m(\u001b[0m\u001b[0mkey\u001b[0m\u001b[1;33m)\u001b[0m\u001b[1;33m\u001b[0m\u001b[0m\n",
      "\u001b[0;32mC:\\Users\\Jason\\Anaconda2\\lib\\site-packages\\pandas\\core\\frame.pyc\u001b[0m in \u001b[0;36m_getitem_array\u001b[0;34m(self, key)\u001b[0m\n\u001b[1;32m   2096\u001b[0m         \u001b[1;32melse\u001b[0m\u001b[1;33m:\u001b[0m\u001b[1;33m\u001b[0m\u001b[0m\n\u001b[1;32m   2097\u001b[0m             \u001b[0mindexer\u001b[0m \u001b[1;33m=\u001b[0m \u001b[0mself\u001b[0m\u001b[1;33m.\u001b[0m\u001b[0mix\u001b[0m\u001b[1;33m.\u001b[0m\u001b[0m_convert_to_indexer\u001b[0m\u001b[1;33m(\u001b[0m\u001b[0mkey\u001b[0m\u001b[1;33m,\u001b[0m \u001b[0maxis\u001b[0m\u001b[1;33m=\u001b[0m\u001b[1;36m1\u001b[0m\u001b[1;33m)\u001b[0m\u001b[1;33m\u001b[0m\u001b[0m\n\u001b[0;32m-> 2098\u001b[0;31m             \u001b[1;32mreturn\u001b[0m \u001b[0mself\u001b[0m\u001b[1;33m.\u001b[0m\u001b[0mtake\u001b[0m\u001b[1;33m(\u001b[0m\u001b[0mindexer\u001b[0m\u001b[1;33m,\u001b[0m \u001b[0maxis\u001b[0m\u001b[1;33m=\u001b[0m\u001b[1;36m1\u001b[0m\u001b[1;33m,\u001b[0m \u001b[0mconvert\u001b[0m\u001b[1;33m=\u001b[0m\u001b[0mTrue\u001b[0m\u001b[1;33m)\u001b[0m\u001b[1;33m\u001b[0m\u001b[0m\n\u001b[0m\u001b[1;32m   2099\u001b[0m \u001b[1;33m\u001b[0m\u001b[0m\n\u001b[1;32m   2100\u001b[0m     \u001b[1;32mdef\u001b[0m \u001b[0m_getitem_multilevel\u001b[0m\u001b[1;33m(\u001b[0m\u001b[0mself\u001b[0m\u001b[1;33m,\u001b[0m \u001b[0mkey\u001b[0m\u001b[1;33m)\u001b[0m\u001b[1;33m:\u001b[0m\u001b[1;33m\u001b[0m\u001b[0m\n",
      "\u001b[0;32mC:\\Users\\Jason\\Anaconda2\\lib\\site-packages\\pandas\\core\\generic.pyc\u001b[0m in \u001b[0;36mtake\u001b[0;34m(self, indices, axis, convert, is_copy, **kwargs)\u001b[0m\n\u001b[1;32m   1667\u001b[0m         new_data = self._data.take(indices,\n\u001b[1;32m   1668\u001b[0m                                    \u001b[0maxis\u001b[0m\u001b[1;33m=\u001b[0m\u001b[0mself\u001b[0m\u001b[1;33m.\u001b[0m\u001b[0m_get_block_manager_axis\u001b[0m\u001b[1;33m(\u001b[0m\u001b[0maxis\u001b[0m\u001b[1;33m)\u001b[0m\u001b[1;33m,\u001b[0m\u001b[1;33m\u001b[0m\u001b[0m\n\u001b[0;32m-> 1669\u001b[0;31m                                    convert=True, verify=True)\n\u001b[0m\u001b[1;32m   1670\u001b[0m         \u001b[0mresult\u001b[0m \u001b[1;33m=\u001b[0m \u001b[0mself\u001b[0m\u001b[1;33m.\u001b[0m\u001b[0m_constructor\u001b[0m\u001b[1;33m(\u001b[0m\u001b[0mnew_data\u001b[0m\u001b[1;33m)\u001b[0m\u001b[1;33m.\u001b[0m\u001b[0m__finalize__\u001b[0m\u001b[1;33m(\u001b[0m\u001b[0mself\u001b[0m\u001b[1;33m)\u001b[0m\u001b[1;33m\u001b[0m\u001b[0m\n\u001b[1;32m   1671\u001b[0m \u001b[1;33m\u001b[0m\u001b[0m\n",
      "\u001b[0;32mC:\\Users\\Jason\\Anaconda2\\lib\\site-packages\\pandas\\core\\internals.pyc\u001b[0m in \u001b[0;36mtake\u001b[0;34m(self, indexer, axis, verify, convert)\u001b[0m\n\u001b[1;32m   3953\u001b[0m         \u001b[0mn\u001b[0m \u001b[1;33m=\u001b[0m \u001b[0mself\u001b[0m\u001b[1;33m.\u001b[0m\u001b[0mshape\u001b[0m\u001b[1;33m[\u001b[0m\u001b[0maxis\u001b[0m\u001b[1;33m]\u001b[0m\u001b[1;33m\u001b[0m\u001b[0m\n\u001b[1;32m   3954\u001b[0m         \u001b[1;32mif\u001b[0m \u001b[0mconvert\u001b[0m\u001b[1;33m:\u001b[0m\u001b[1;33m\u001b[0m\u001b[0m\n\u001b[0;32m-> 3955\u001b[0;31m             \u001b[0mindexer\u001b[0m \u001b[1;33m=\u001b[0m \u001b[0mmaybe_convert_indices\u001b[0m\u001b[1;33m(\u001b[0m\u001b[0mindexer\u001b[0m\u001b[1;33m,\u001b[0m \u001b[0mn\u001b[0m\u001b[1;33m)\u001b[0m\u001b[1;33m\u001b[0m\u001b[0m\n\u001b[0m\u001b[1;32m   3956\u001b[0m \u001b[1;33m\u001b[0m\u001b[0m\n\u001b[1;32m   3957\u001b[0m         \u001b[1;32mif\u001b[0m \u001b[0mverify\u001b[0m\u001b[1;33m:\u001b[0m\u001b[1;33m\u001b[0m\u001b[0m\n",
      "\u001b[0;32mC:\\Users\\Jason\\Anaconda2\\lib\\site-packages\\pandas\\core\\indexing.pyc\u001b[0m in \u001b[0;36mmaybe_convert_indices\u001b[0;34m(indices, n)\u001b[0m\n\u001b[1;32m   1871\u001b[0m     \u001b[0mmask\u001b[0m \u001b[1;33m=\u001b[0m \u001b[1;33m(\u001b[0m\u001b[0mindices\u001b[0m \u001b[1;33m>=\u001b[0m \u001b[0mn\u001b[0m\u001b[1;33m)\u001b[0m \u001b[1;33m|\u001b[0m \u001b[1;33m(\u001b[0m\u001b[0mindices\u001b[0m \u001b[1;33m<\u001b[0m \u001b[1;36m0\u001b[0m\u001b[1;33m)\u001b[0m\u001b[1;33m\u001b[0m\u001b[0m\n\u001b[1;32m   1872\u001b[0m     \u001b[1;32mif\u001b[0m \u001b[0mmask\u001b[0m\u001b[1;33m.\u001b[0m\u001b[0many\u001b[0m\u001b[1;33m(\u001b[0m\u001b[1;33m)\u001b[0m\u001b[1;33m:\u001b[0m\u001b[1;33m\u001b[0m\u001b[0m\n\u001b[0;32m-> 1873\u001b[0;31m         \u001b[1;32mraise\u001b[0m \u001b[0mIndexError\u001b[0m\u001b[1;33m(\u001b[0m\u001b[1;34m\"indices are out-of-bounds\"\u001b[0m\u001b[1;33m)\u001b[0m\u001b[1;33m\u001b[0m\u001b[0m\n\u001b[0m\u001b[1;32m   1874\u001b[0m     \u001b[1;32mreturn\u001b[0m \u001b[0mindices\u001b[0m\u001b[1;33m\u001b[0m\u001b[0m\n\u001b[1;32m   1875\u001b[0m \u001b[1;33m\u001b[0m\u001b[0m\n",
      "\u001b[0;31mIndexError\u001b[0m: indices are out-of-bounds"
     ]
    }
   ],
   "source": [
    "from sklearn.linear_model import LinearRegression\n",
    "print posidx\n",
    "print len(dummies)\n",
    "y2 = y[posidx]\n",
    "dummies2 = dummies[posidx]\n",
    "#print dummies.iloc[0:3,3:]\n",
    "X = dummies2.iloc[:,3:] #dummies3#.iloc[:, 3:]\n",
    "y = df[posidx]['log ROI']\n",
    "#print X\n",
    "\n",
    "lassoreg = LassoLars(alpha=0.001,normalize=True, max_iter=10000)\n",
    "lassoreg.fit(X,y)\n",
    "\n",
    "print lassoreg.score(X,y)\n",
    "print(\"Lasso results:\")\n",
    "zip(dummies.columns[3:],lassoreg.coef_)\n",
    "\n",
    "lassohat = lassoreg.predict(X)\n",
    "resid = lassohat-y\n",
    "\n",
    "plt.scatter(np.arange(len(resid)), resid)\n",
    "plt.show()"
   ]
  },
  {
   "cell_type": "code",
   "execution_count": 117,
   "metadata": {
    "collapsed": false
   },
   "outputs": [
    {
     "name": "stdout",
     "output_type": "stream",
     "text": [
      "0.52390646657\n",
      "Ridge results:\n"
     ]
    },
    {
     "data": {
      "text/plain": [
       "[('Production Budget', -4.0129227324239604e-08),\n",
       " ('Opening Weekend Theaters', 0.00051530525244370393),\n",
       " ('Opening Weekend Revenue', -5.4554493559635413e-09),\n",
       " ('Worldwide Box Office', 1.0660365605966816e-08),\n",
       " ('Jumps', 0.020087290346990094),\n",
       " ('Runtime', -0.0040105923356195524),\n",
       " ('IMDb Score', 0.29896750592989585),\n",
       " ('Theatrical Distributor_20th Century Fox', 0.45223791588511741),\n",
       " ('Theatrical Distributor_Lionsgate', 0.68186828829673851),\n",
       " ('Theatrical Distributor_MGM', 0.23604960861127372),\n",
       " ('Theatrical Distributor_Magnolia Pictures', -0.39423778353215366),\n",
       " ('Theatrical Distributor_Miramax', 0.31119674586184487),\n",
       " ('Theatrical Distributor_Miramax/Dimension', -0.010201732889379221),\n",
       " ('Theatrical Distributor_New Line', 0.89828630512908836),\n",
       " ('Theatrical Distributor_Other', 0.33526641103285471),\n",
       " ('Theatrical Distributor_Paramount Pictures', 0.88422811293684034),\n",
       " ('Theatrical Distributor_Sony Pictures', 0.14208257005807107),\n",
       " ('Theatrical Distributor_Universal', 0.40553255185412435),\n",
       " ('Theatrical Distributor_Warner Bros.', 0.42683246971994637),\n",
       " ('Theatrical Distributor_Weinstein/Dimension', -0.0020586516561777891),\n",
       " ('Source_Based on Comic/Graphic Novel', -0.40953958179303462),\n",
       " ('Source_Based on Factual Book/Article', -0.88167605542820915),\n",
       " ('Source_Based on Fiction Book/Short Story', -0.20767637795368973),\n",
       " ('Source_Based on Folk Tale/Legend/Fairytale', -5.7491823141794436),\n",
       " ('Source_Based on Game', -0.19429484031906355),\n",
       " ('Source_Based on Real Life Events', -0.36333729372324919),\n",
       " ('Source_Based on Short Film', -0.58936035462667458),\n",
       " ('Source_Based on TV', 0.24522083975538522),\n",
       " ('Source_Original Screenplay', -0.22684128466693959),\n",
       " ('Source_Remake', -0.27068781272079329),\n",
       " ('Source_Spin-Off', -0.40909395668321041),\n",
       " ('Creative Type_Contemporary Fiction', 0.58753145761314818),\n",
       " ('Creative Type_Dramatization', 1.4087431141589859),\n",
       " ('Creative Type_Fantasy', 0.80291894074341097),\n",
       " ('Creative Type_Historical Fiction', 0.29767277197999281),\n",
       " ('Creative Type_Science Fiction', 0.91800155498523972),\n",
       " ('Rating_0', 0.60722442159673651),\n",
       " ('Rating_nc17', 2.7713854421949486),\n",
       " ('Rating_nr', 0.47943327397000274),\n",
       " ('Rating_pg', -0.3598532247250375),\n",
       " ('Rating_pg13', 0.063922168525031436),\n",
       " ('Rating_r', -0.15584361991252585)]"
      ]
     },
     "execution_count": 117,
     "metadata": {},
     "output_type": "execute_result"
    }
   ],
   "source": [
    "ridgereg = Ridge(alpha=0.05,normalize=True)\n",
    "ridgereg.fit(X,y)\n",
    "print ridgereg.score(X,y)\n",
    "print(\"Ridge results:\")\n",
    "zip(dummies.columns[3:],ridgereg.coef_)"
   ]
  },
  {
   "cell_type": "code",
   "execution_count": 39,
   "metadata": {
    "collapsed": false
   },
   "outputs": [
    {
     "name": "stdout",
     "output_type": "stream",
     "text": [
      "-1762.60471468\n",
      "6210.40750954\n"
     ]
    }
   ],
   "source": [
    "from sklearn.svm import SVR\n",
    "Xtr = X[:300]\n",
    "Ytr = y[:300]\n",
    "Xtest = X[300:]\n",
    "ytest = y[300:]\n",
    "svr_rbf = SVR(kernel='rbf', C=100, gamma=0.1)\n",
    "svr_rbf.fit(X,y)\n",
    "print svr_rbf.score(X,y)\n",
    "yhats = svr_rbf.predict(Xtest)\n",
    "\n",
    "ydiff=yhats-ytest\n",
    "print np.dot(ydiff,ydiff)/len(ydiff)"
   ]
  },
  {
   "cell_type": "code",
   "execution_count": 65,
   "metadata": {
    "collapsed": false
   },
   "outputs": [
    {
     "name": "stdout",
     "output_type": "stream",
     "text": [
      "0.554638454651\n",
      "OLS results: \n"
     ]
    },
    {
     "data": {
      "text/plain": [
       "[('Production Budget', -2.6418340760406456e-08),\n",
       " ('Opening Weekend Theaters', 0.00022763012502486008),\n",
       " ('Opening Weekend Revenue', -1.6826015195964086e-08),\n",
       " ('Worldwide Box Office', 9.0057563173616027e-09),\n",
       " ('Jumps', 0.0090220392162191701),\n",
       " ('Runtime', -0.0060846532011754467),\n",
       " ('IMDb Score', 0.17293557990338587),\n",
       " ('Theatrical Distributor_20th Century Fox', 0.67454130617513286),\n",
       " ('Theatrical Distributor_Lionsgate', 0.78827065655570661),\n",
       " ('Theatrical Distributor_MGM', 0.64899707420482178),\n",
       " ('Theatrical Distributor_Magnolia Pictures', 0.48947246677348399),\n",
       " ('Theatrical Distributor_Miramax', 0.53217248226414304),\n",
       " ('Theatrical Distributor_Miramax/Dimension', 0.66205797783602127),\n",
       " ('Theatrical Distributor_New Line', 0.98076138999424689),\n",
       " ('Theatrical Distributor_Other', 0.75916943268878023),\n",
       " ('Theatrical Distributor_Paramount Pictures', 1.2831098111257426),\n",
       " ('Theatrical Distributor_Sony Pictures', 0.61117466809653875),\n",
       " ('Theatrical Distributor_Universal', 0.77353239940451968),\n",
       " ('Theatrical Distributor_Warner Bros.', 0.87464854601838138),\n",
       " ('Theatrical Distributor_Weinstein/Dimension', 0.62171114410430228),\n",
       " ('Source_Based on Comic/Graphic Novel', -0.090042950784976206),\n",
       " ('Source_Based on Factual Book/Article', -0.41004447982766662),\n",
       " ('Source_Based on Fiction Book/Short Story', -0.2393708912133537),\n",
       " ('Source_Based on Folk Tale/Legend/Fairytale', -0.49849142986296796),\n",
       " ('Source_Based on Game', -0.083291137219105582),\n",
       " ('Source_Based on Real Life Events', 0.32514962087868876),\n",
       " ('Source_Based on Short Film', -0.40265809742291203),\n",
       " ('Source_Based on TV', 0.13698130817784768),\n",
       " ('Source_Compilation', -0.087524860043620353),\n",
       " ('Source_Original Screenplay', -0.059288373732590327),\n",
       " ('Source_Remake', -0.15891323147087627),\n",
       " ('Source_Spin-Off', -0.1704207738541785),\n",
       " ('Creative Type_Contemporary Fiction', 0.084144121763408908),\n",
       " ('Creative Type_Dramatization', 0.16863221041329396),\n",
       " ('Creative Type_Fantasy', 0.19180042404119943),\n",
       " ('Creative Type_Historical Fiction', -0.083090718020725596),\n",
       " ('Creative Type_Multiple Creative Types', -0.087524860059068413),\n",
       " ('Creative Type_Science Fiction', 0.20434005950936679),\n",
       " ('Rating_0', -0.38970435781778645),\n",
       " ('Rating_nc17', 1.9741303579608136),\n",
       " ('Rating_nr', 0.19348833190511378),\n",
       " ('Rating_pg', -0.53378689031551618),\n",
       " ('Rating_pg13', -0.022273815647438716),\n",
       " ('Rating_r', -0.10568624685850678),\n",
       " ('Rating_tv14', -1.1161673945255459)]"
      ]
     },
     "execution_count": 65,
     "metadata": {},
     "output_type": "execute_result"
    }
   ],
   "source": [
    "#y_pred = lassoreg.predict(data[predictors])\n",
    "# rss = np.sum((y_pred - df['ROI'])**2)\n",
    "import statsmodels.formula.api as sm\n",
    "lm = LinearRegression()\n",
    "lm.fit(X,y)\n",
    "coefs =  lm.coef_\n",
    "print lm.score(X,y)\n",
    "print(\"OLS results: \")\n",
    "zip(dummies.columns[3:], coefs)"
   ]
  },
  {
   "cell_type": "code",
   "execution_count": 41,
   "metadata": {
    "collapsed": false
   },
   "outputs": [
    {
     "name": "stdout",
     "output_type": "stream",
     "text": [
      "0.402086087121\n",
      "2.47425188159\n"
     ]
    },
    {
     "data": {
      "image/png": "[encoded data removed]",
      "text/plain": [
       "<matplotlib.figure.Figure at 0xdb13f98>"
      ]
     },
     "metadata": {},
     "output_type": "display_data"
    },
    {
     "data": {
      "image/png": "[encoded data removed]",
      "text/plain": [
       "<matplotlib.figure.Figure at 0xe44bac8>"
      ]
     },
     "metadata": {},
     "output_type": "display_data"
    }
   ],
   "source": [
    "print lm.score(X,y)\n",
    "yhat = lassoreg.predict(X)\n",
    "rbf = svr_rbf.predict(X)\n",
    "both = zip(yhat,y)\n",
    "\n",
    "#print enum\n",
    "\n",
    "\n",
    "mse=0.0\n",
    "cnt=0.0\n",
    "y2 = []\n",
    "yhat2 = []\n",
    "yhat3 = []\n",
    "for i in range(y.shape[0]):\n",
    "    if y[i]<100:\n",
    "        mse+=(y[i]-yhat[i])**2\n",
    "        cnt+=1.0\n",
    "        y2.append(y[i])\n",
    "        yhat2.append(yhat[i])\n",
    "        yhat3.append(rbf[i])\n",
    "print mse/cnt\n",
    "enum = np.arange(len(yhat2))\n",
    "\n",
    "y2=np.array(y2)\n",
    "yhat2 = np.array(yhat2)\n",
    "yhat3 = np.array(yhat3)\n",
    "idx = np.argsort(y2)\n",
    "#print idx\n",
    "y2 = y2[idx]\n",
    "#print y2\n",
    "yhat2 = yhat2[idx]\n",
    "yhat3 = yhat3[idx]\n",
    "plt.scatter(enum, y2)\n",
    "plt.scatter(enum, yhat2)\n",
    "plt.scatter(enum, yhat3)\n",
    "plt.show()\n",
    "\n",
    "#plt.scatter(df['Runtime'], y)\n",
    "#plt.show()"
   ]
  },
  {
   "cell_type": "code",
   "execution_count": 42,
   "metadata": {
    "collapsed": false
   },
   "outputs": [
    {
     "name": "stdout",
     "output_type": "stream",
     "text": [
      "[ 162.31409149]\n",
      "[ 42.91837878]\n",
      "[ 40.78580941]\n"
     ]
    }
   ],
   "source": [
    "\n",
    "#CODE IN A COLUMN FOR DIFFERENCE IN RELEASE DATES\n",
    "#MONTH OF YEAR\n",
    "#DISTRIBUTOR TOTALS\n",
    "#ROI\n",
    "#JUMP SCARES\n",
    "#PG13/R RATINGS\n",
    "#RUN TIMES\n",
    "\n",
    "#dist_counts = ptest.groupby('Theatrical Distributor')\n",
    "\n",
    "def get_dict(col):\n",
    "    #pdb.set_trace()\n",
    "    xdict = {}\n",
    "    val=0\n",
    "    for x in col:\n",
    "        if not x in xdict:\n",
    "            #print('Nope')\n",
    "            xdict[x] = val\n",
    "            val+=1\n",
    "    return xdict\n",
    "def replace_from_dict(x,xdict):\n",
    "    if x in xdict:\n",
    "        x = xdict[x]\n",
    "    return x\n",
    "\n",
    "#returns the average \"normalized\" squared leave-one-out cross-validation error\n",
    "def cross_val(X,y, model):\n",
    "    error = 0.0\n",
    "    size = len(y)\n",
    "    #alltrained = model.fit(X,y)\n",
    "    #allyhat = model.predict(X)\n",
    "    #ybar = np.mean(y)\n",
    "    #yhatbar = np.mean(allyhat)\n",
    "    for i in range(size):\n",
    "        mask = np.ones(size, dtype=bool)\n",
    "        mask[i] = 0\n",
    "        trained = model.fit(X[mask], y[mask])\n",
    "        guess = trained.predict(X.iloc[i].values.reshape(1,-1))\n",
    "        ierr = (guess-y[i])**2\n",
    "        error+=ierr/guess/guess#/ybar/yhatbar\n",
    "    return error/size\n",
    "\n",
    "err = cross_val(X,y,lassoreg)\n",
    "#print lassoreg.predict(X.iloc[1].values.reshape(1,-1))\n",
    "print err\n",
    "print cross_val(X,y,lm)\n",
    "print cross_val(X,y,ridgereg)\n",
    "# #print ptest['Source'][:5]\n",
    "# xdict = get_dict(ptest['Source'])\n",
    "# print ptest['Source'][:5]\n",
    "# print xdict\n",
    "# print replace_from_dict('Original Screenplay',xdict)\n",
    "# ptest['Source']=ptest.apply((lambda x: replace_from_dict(x['Source'],xdict)), axis=1)\n",
    "# print ptest['Source'][:10]\n",
    "\n",
    "\n",
    "# for col in ptest:\n",
    "#     cdict = get_dict(col) \n",
    "#     col = ptest.apply((lambda x: replace_from_dict(x['Source'],xdict)), axis=1)"
   ]
  },
  {
   "cell_type": "code",
   "execution_count": null,
   "metadata": {
    "collapsed": false
   },
   "outputs": [],
   "source": [
    "# ptest = ptest.replace( '[\\$,)]','', regex=True )\n",
    "# ptest['ROI']=ptest['Domestic Box Office'].astype(float)/ptest['Production Budget'].astype(float)\n",
    "# ptest[['Title','Source','Theatrical Distributor','Production Budget','Domestic Box Office','ROI']]"
   ]
  }
 ],
 "metadata": {
  "anaconda-cloud": {},
  "kernelspec": {
   "display_name": "Python [default]",
   "language": "python",
   "name": "python2"
  },
  "language_info": {
   "codemirror_mode": {
    "name": "ipython",
    "version": 2
   },
   "file_extension": ".py",
   "mimetype": "text/x-python",
   "name": "python",
   "nbconvert_exporter": "python",
   "pygments_lexer": "ipython2",
   "version": "2.7.13"
  }
 },
 "nbformat": 4,
 "nbformat_minor": 1
}
