{
 "cells": [
  {
   "cell_type": "code",
   "execution_count": 19,
   "metadata": {
    "collapsed": true
   },
   "outputs": [],
   "source": [
    "import numpy as np\n",
    "import pandas as pd\n",
    "import pdb\n",
    "import matplotlib.pyplot as plt\n"
   ]
  },
  {
   "cell_type": "code",
   "execution_count": 74,
   "metadata": {
    "collapsed": false
   },
   "outputs": [],
   "source": [
    "\n",
    "df = pd.read_table(\"horror_all2.txt\", delimiter = '\\t',parse_dates=True,infer_datetime_format=True,date_parser=pd.to_datetime)\n",
    "ptest = df[['Released','Released Worldwide', 'Year', 'Theatrical Distributor','Source','Creative Type', \\\n",
    "            'Production Budget', 'Opening Weekend Theaters', 'Opening Weekend Revenue', 'Worldwide Box Office']]\n",
    "titles = df['Title']\n"
   ]
  },
  {
   "cell_type": "code",
   "execution_count": 76,
   "metadata": {
    "collapsed": false
   },
   "outputs": [
    {
     "name": "stdout",
     "output_type": "stream",
     "text": [
      "Index([u'Released', u'Released Worldwide', u'Year', u'Theatrical Distributor',\n",
      "       u'Source', u'Creative Type', u'Production Budget',\n",
      "       u'Opening Weekend Theaters', u'Opening Weekend Revenue',\n",
      "       u'Worldwide Box Office'],\n",
      "      dtype='object')\n",
      "0     46227375\n",
      "1     74843754\n",
      "2    222086658\n",
      "3     81831866\n",
      "4     37493221\n",
      "Name: Worldwide Box Office, dtype: int64\n",
      "0    Feb 24 2017\n",
      "1     Feb 3 2017\n",
      "2    Jan 20 2017\n",
      "3    Oct 21 2016\n",
      "4    Sep 16 2016\n",
      "Name: Released, dtype: object\n",
      "0     2017-02-24\n",
      "1     2017-02-03\n",
      "2     2017-01-20\n",
      "3     2016-10-21\n",
      "4     2016-09-16\n",
      "5     2016-09-02\n",
      "6     2016-08-26\n",
      "7     2016-07-22\n",
      "8     2016-07-01\n",
      "9     2016-06-24\n",
      "10    2016-06-10\n",
      "11    2016-05-13\n",
      "12    2016-04-15\n",
      "13    2016-02-19\n",
      "14    2016-01-22\n",
      "15    2015-12-31\n",
      "16    2015-12-31\n",
      "17    2015-12-22\n",
      "18    2015-12-01\n",
      "19    2015-11-20\n",
      "20    2015-11-10\n",
      "21    2015-10-27\n",
      "22    2015-10-23\n",
      "23    2015-10-16\n",
      "24    2015-10-16\n",
      "25    2015-09-29\n",
      "26    2015-09-29\n",
      "27    2015-09-25\n",
      "28    2015-09-01\n",
      "29    2015-09-01\n",
      "         ...    \n",
      "359   1983-04-15\n",
      "360   1983-02-04\n",
      "361   1999-03-19\n",
      "362   1988-04-22\n",
      "363   1987-09-04\n",
      "364   1988-03-04\n",
      "365   1982-11-19\n",
      "366   1993-02-12\n",
      "367   1983-01-01\n",
      "368   1993-01-01\n",
      "369   2000-09-08\n",
      "370   1997-08-24\n",
      "371   1981-10-30\n",
      "372   1981-04-30\n",
      "373   1981-04-10\n",
      "374   1980-05-23\n",
      "375   1980-05-09\n",
      "376   1980-02-01\n",
      "377   1979-05-25\n",
      "378   1979-04-20\n",
      "379   1978-10-17\n",
      "380   1978-06-16\n",
      "381   1977-06-17\n",
      "382   1977-01-01\n",
      "383   1976-11-16\n",
      "384   1976-06-25\n",
      "385   1975-06-20\n",
      "386   1974-10-18\n",
      "387   1973-12-26\n",
      "388   1968-10-01\n",
      "Name: Released, dtype: datetime64[ns]\n"
     ]
    },
    {
     "name": "stderr",
     "output_type": "stream",
     "text": [
      "C:\\Users\\Jason\\Anaconda2\\lib\\site-packages\\ipykernel\\__main__.py:4: SettingWithCopyWarning: \n",
      "A value is trying to be set on a copy of a slice from a DataFrame.\n",
      "Try using .loc[row_indexer,col_indexer] = value instead\n",
      "\n",
      "See the caveats in the documentation: http://pandas.pydata.org/pandas-docs/stable/indexing.html#indexing-view-versus-copy\n",
      "C:\\Users\\Jason\\Anaconda2\\lib\\site-packages\\ipykernel\\__main__.py:5: SettingWithCopyWarning: \n",
      "A value is trying to be set on a copy of a slice from a DataFrame.\n",
      "Try using .loc[row_indexer,col_indexer] = value instead\n",
      "\n",
      "See the caveats in the documentation: http://pandas.pydata.org/pandas-docs/stable/indexing.html#indexing-view-versus-copy\n"
     ]
    },
    {
     "data": {
      "image/png": "[encoded data removed]",
      "text/plain": [
       "<matplotlib.figure.Figure at 0xc179780>"
      ]
     },
     "metadata": {},
     "output_type": "display_data"
    }
   ],
   "source": [
    "print ptest.columns\n",
    "print ptest['Worldwide Box Office'][:5]\n",
    "print ptest['Released'][:5]\n",
    "ptest['Released'] = pd.to_datetime(ptest['Released'], infer_datetime_format=True)\n",
    "ptest['Released Worldwide'] = pd.to_datetime(ptest['Released Worldwide'], infer_datetime_format=True)\n",
    "print ptest['Released']\n",
    "plt.plot(ptest['Worldwide Box Office'])\n",
    "plt.show()"
   ]
  },
  {
   "cell_type": "code",
   "execution_count": 78,
   "metadata": {
    "collapsed": false
   },
   "outputs": [
    {
     "name": "stdout",
     "output_type": "stream",
     "text": [
      "    Released Released Worldwide  Year Theatrical Distributor  \\\n",
      "0 2017-02-24         2017-02-24  2017              Universal   \n",
      "1 2017-02-03         2017-02-03  2017     Paramount Pictures   \n",
      "2 2017-01-20         2017-01-18  2017              Universal   \n",
      "3 2016-10-21         2016-10-20  2016              Universal   \n",
      "4 2016-09-16         2016-09-15  2016              Lionsgate   \n",
      "\n",
      "                Source         Creative Type  Production Budget  \\\n",
      "0  Original Screenplay  Contemporary Fiction            5000000   \n",
      "1  Original Screenplay  Contemporary Fiction           25000000   \n",
      "2  Original Screenplay  Contemporary Fiction            5000000   \n",
      "3        Based on Game               Fantasy            9000000   \n",
      "4  Original Screenplay  Contemporary Fiction           10000000   \n",
      "\n",
      "   Opening Weekend Theaters  Opening Weekend Revenue  Worldwide Box Office  \n",
      "0                      2781                 33377060              46227375  \n",
      "1                      2931                 13002632              74843754  \n",
      "2                      3038                 40010975             222086658  \n",
      "3                      3167                 14065500              81831866  \n",
      "4                      3121                  9576057              37493221  \n",
      "0                  Get Out\n",
      "1                    Rings\n",
      "2                    Split\n",
      "3    Ouija: Origin of Evil\n",
      "4              Blair Witch\n",
      "Name: Title, dtype: object\n",
      "    Released Released Worldwide  Year  Production Budget  \\\n",
      "0 2017-02-24         2017-02-24  2017            5000000   \n",
      "1 2017-02-03         2017-02-03  2017           25000000   \n",
      "2 2017-01-20         2017-01-18  2017            5000000   \n",
      "3 2016-10-21         2016-10-20  2016            9000000   \n",
      "4 2016-09-16         2016-09-15  2016           10000000   \n",
      "\n",
      "   Opening Weekend Theaters  Opening Weekend Revenue  Worldwide Box Office  \\\n",
      "0                      2781                 33377060              46227375   \n",
      "1                      2931                 13002632              74843754   \n",
      "2                      3038                 40010975             222086658   \n",
      "3                      3167                 14065500              81831866   \n",
      "4                      3121                  9576057              37493221   \n",
      "\n",
      "   Theatrical Distributor_20th Century Fox  Theatrical Distributor_A24  \\\n",
      "0                                        0                           0   \n",
      "1                                        0                           0   \n",
      "2                                        0                           0   \n",
      "3                                        0                           0   \n",
      "4                                        0                           0   \n",
      "\n",
      "   Theatrical Distributor_Anchor Bay Entertainment  \\\n",
      "0                                                0   \n",
      "1                                                0   \n",
      "2                                                0   \n",
      "3                                                0   \n",
      "4                                                0   \n",
      "\n",
      "               ...                Source_Compilation  \\\n",
      "0              ...                                 0   \n",
      "1              ...                                 0   \n",
      "2              ...                                 0   \n",
      "3              ...                                 0   \n",
      "4              ...                                 0   \n",
      "\n",
      "   Source_Original Screenplay  Source_Remake  Source_Spin-Off  \\\n",
      "0                           1              0                0   \n",
      "1                           1              0                0   \n",
      "2                           1              0                0   \n",
      "3                           0              0                0   \n",
      "4                           1              0                0   \n",
      "\n",
      "   Creative Type_Contemporary Fiction  Creative Type_Dramatization  \\\n",
      "0                                   1                            0   \n",
      "1                                   1                            0   \n",
      "2                                   1                            0   \n",
      "3                                   0                            0   \n",
      "4                                   1                            0   \n",
      "\n",
      "   Creative Type_Fantasy  Creative Type_Historical Fiction  \\\n",
      "0                      0                                 0   \n",
      "1                      0                                 0   \n",
      "2                      0                                 0   \n",
      "3                      1                                 0   \n",
      "4                      0                                 0   \n",
      "\n",
      "   Creative Type_Multiple Creative Types  Creative Type_Science Fiction  \n",
      "0                                      0                              0  \n",
      "1                                      0                              0  \n",
      "2                                      0                              0  \n",
      "3                                      0                              0  \n",
      "4                                      0                              0  \n",
      "\n",
      "[5 rows x 100 columns]\n"
     ]
    }
   ],
   "source": [
    "print ptest[:5]\n",
    "print titles[:5]\n",
    "\n",
    "dummies = pd.get_dummies(ptest)\n",
    "print dummies[:5]"
   ]
  },
  {
   "cell_type": "code",
   "execution_count": 65,
   "metadata": {
    "collapsed": false
   },
   "outputs": [
    {
     "name": "stdout",
     "output_type": "stream",
     "text": [
      "0    Original Screenplay\n",
      "1    Original Screenplay\n",
      "2    Original Screenplay\n",
      "3          Based on Game\n",
      "4    Original Screenplay\n",
      "Name: Source, dtype: object\n",
      "{nan: 10, 'Based on Comic/Graphic Novel': 11, 'Based on Fiction Book/Short Story': 4, 'Based on TV': 12, 'Original Screenplay': 0, 'Based on Short Film': 2, 'Compilation': 3, 'Based on Folk Tale/Legend/Fairytale': 6, 'Based on Real Life Events': 9, 'Remake': 5, 'Based on Factual Book/Article': 8, 'Spin-Off': 7, 'Based on Game': 1}\n",
      "0\n",
      "0    0\n",
      "1    0\n",
      "2    0\n",
      "3    1\n",
      "4    0\n",
      "5    0\n",
      "6    0\n",
      "7    2\n",
      "8    0\n",
      "9    0\n",
      "Name: Source, dtype: int64\n"
     ]
    },
    {
     "name": "stderr",
     "output_type": "stream",
     "text": [
      "C:\\Users\\Jason\\Anaconda2\\lib\\site-packages\\ipykernel\\__main__.py:26: SettingWithCopyWarning: \n",
      "A value is trying to be set on a copy of a slice from a DataFrame.\n",
      "Try using .loc[row_indexer,col_indexer] = value instead\n",
      "\n",
      "See the caveats in the documentation: http://pandas.pydata.org/pandas-docs/stable/indexing.html#indexing-view-versus-copy\n"
     ]
    }
   ],
   "source": [
    "\n",
    "#CODE IN A COLUMN FOR DIFFERENCE IN RELEASE DATES\n",
    "#MONTH OF YEAR\n",
    "#DISTRIBUTOR TOTALS\n",
    "#ROI\n",
    "#JUMP SCARES\n",
    "#PG13/R RATINGS\n",
    "#RUN TIMES\n",
    "\n",
    "dist_counts = ptest.groupby('Theatrical Distributor')\n",
    "\n",
    "def get_dict(col):\n",
    "    #pdb.set_trace()\n",
    "    xdict = {}\n",
    "    val=0\n",
    "    for x in col:\n",
    "        if not x in xdict:\n",
    "            #print('Nope')\n",
    "            xdict[x] = val\n",
    "            val+=1\n",
    "    return xdict\n",
    "def replace_from_dict(x,xdict):\n",
    "    if x in xdict:\n",
    "        x = xdict[x]\n",
    "    return x\n",
    "\n",
    "# #print ptest['Source'][:5]\n",
    "# xdict = get_dict(ptest['Source'])\n",
    "# print ptest['Source'][:5]\n",
    "# print xdict\n",
    "# print replace_from_dict('Original Screenplay',xdict)\n",
    "# ptest['Source']=ptest.apply((lambda x: replace_from_dict(x['Source'],xdict)), axis=1)\n",
    "# print ptest['Source'][:10]\n",
    "\n",
    "\n",
    "# for col in ptest:\n",
    "#     cdict = get_dict(col) \n",
    "#     col = ptest.apply((lambda x: replace_from_dict(x['Source'],xdict)), axis=1)"
   ]
  },
  {
   "cell_type": "code",
   "execution_count": null,
   "metadata": {
    "collapsed": false
   },
   "outputs": [],
   "source": [
    "ptest = ptest.replace( '[\\$,)]','', regex=True )\n",
    "ptest['ROI']=ptest['Domestic Box Office'].astype(float)/ptest['Production Budget'].astype(float)\n",
    "ptest[['Title','Source','Theatrical Distributor','Production Budget','Domestic Box Office','ROI']]"
   ]
  }
 ],
 "metadata": {
  "anaconda-cloud": {},
  "kernelspec": {
   "display_name": "Python [default]",
   "language": "python",
   "name": "python2"
  },
  "language_info": {
   "codemirror_mode": {
    "name": "ipython",
    "version": 2
   },
   "file_extension": ".py",
   "mimetype": "text/x-python",
   "name": "python",
   "nbconvert_exporter": "python",
   "pygments_lexer": "ipython2",
   "version": "2.7.13"
  }
 },
 "nbformat": 4,
 "nbformat_minor": 1
}
